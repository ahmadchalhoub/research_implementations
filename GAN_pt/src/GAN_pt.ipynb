{
 "cells": [
  {
   "cell_type": "markdown",
   "metadata": {},
   "source": [
    "### This is the implementation of a very simple GAN (Generative Adversarial Model).\n",
    "\n",
    "This is first trial at implementing an algorithm from a research paper; in this case, 'Generative Adversarial Nets' (https://arxiv.org/pdf/1406.2661.pdf).\n",
    "\n",
    "For this implementation, I am using many resources and basically just dipping my toes in the world of applied ML, as I hope to to gain two main outcomes of this. First, I would like to improve my actual coding skills when it comes to implementing ML/DL algorithms, as I would like to eventually be able to actually read complex publications and implement them myself. This will also help me stay updated with the new advancements happening in this field. Second, it will hopefully keep me in touch with the actual technical part and prevent me from simply being an 'implementer of github projects'. \n",
    "\n",
    "PS: the actual code for this implementation is from the following Medium article: https://towardsdatascience.com/converting-deep-learning-research-papers-to-code-f-f38bbd87352f. I just made very small changes and added more detailed comments for more clarity.\n"
   ]
  },
  {
   "cell_type": "code",
   "execution_count": 1,
   "metadata": {},
   "outputs": [],
   "source": [
    "# Import required libraries\n",
    "import torch\n",
    "from torch import nn\n",
    "\n",
    "from torch import optim\n",
    "from torchvision.transforms import transforms\n",
    "\n",
    "import numpy as np\n",
    "from tqdm.notebook import tqdm\n",
    "from PIL import Image\n",
    "import matplotlib.pyplot as plt\n",
    "\n",
    "import warnings\n",
    "warnings.filterwarnings(\"ignore\")"
   ]
  },
  {
   "cell_type": "code",
   "execution_count": 2,
   "metadata": {},
   "outputs": [
    {
     "name": "stdout",
     "output_type": "stream",
     "text": [
      "Enabling notebook extension jupyter-js-widgets/extension...\n",
      "      - Validating: \u001b[32mOK\u001b[0m\n"
     ]
    }
   ],
   "source": [
    "!jupyter nbextension enable --py widgetsnbextension"
   ]
  },
  {
   "cell_type": "markdown",
   "metadata": {},
   "source": [
    "Using a single image as the training dataset for the generator.\n",
    "One of the datasets used by the authors of the paper is MNIST, which I will work on using after I finish writing the basic structure and implementation of the network."
   ]
  },
  {
   "cell_type": "code",
   "execution_count": 3,
   "metadata": {},
   "outputs": [
    {
     "name": "stdout",
     "output_type": "stream",
     "text": [
      "torch.Size([3, 32, 32])\n"
     ]
    },
    {
     "data": {
      "image/png": "[encoded data removed]",
      "text/plain": [
       "<Figure size 640x480 with 1 Axes>"
      ]
     },
     "metadata": {},
     "output_type": "display_data"
    }
   ],
   "source": [
    "# transforms.Compose allows us to combine multiple changes that we wish to do to an input image;\n",
    "# in this case, the image is first being resized to 32x32 and then converted to a Pytorch tensor.\n",
    "transform = transforms.Compose([\n",
    "    transforms.Resize((32, 32)),\n",
    "    transforms.ToTensor()\n",
    "])\n",
    "\n",
    "# size of the flattened image\n",
    "flat_img = 32*32*3\n",
    "\n",
    "img = Image.open('/home/achalhoub/dev/research_implementations/GAN_pt/input/plane_GAN.jpg')\n",
    "\n",
    "# resize the real image and convert it to a tensor\n",
    "real_img = transform(img)\n",
    "\n",
    "torch.manual_seed(7)\n",
    "\n",
    "# fake noise for image generation\n",
    "fake_img = torch.rand(1, 100)\n",
    "\n",
    "# show the image tensor\n",
    "plt.imshow(np.transpose(real_img.numpy(), (1, 2, 0)))\n",
    "print(real_img.size())"
   ]
  },
  {
   "cell_type": "markdown",
   "metadata": {},
   "source": [
    "Creating the Discriminator, which looks at an input image and outputs a '0' of it thinks the image is fake and a '1' if it thinks the image is real."
   ]
  },
  {
   "cell_type": "code",
   "execution_count": 4,
   "metadata": {},
   "outputs": [],
   "source": [
    "# defines a custom nn module, used for custom models.\n",
    "# a sequential model, which is made up of the input layer of\n",
    "# size 32*32*3 and a ReLU activation function and a single hidden layer\n",
    "# with 10000 nodes, and finally an output layer of size 10000 with a sigmoid \n",
    "# activation function, is instantiated.\n",
    "\n",
    "# a method for the forward pass is also created, which first flattens the\n",
    "# input image and then performs a forward pass of the image through the Discriminator.\n",
    "# this method then returns the output result that is coming from the sigmoid function.\n",
    "\n",
    "class Discriminator(nn.Module):\n",
    "    def __init__(self):\n",
    "        super().__init__()\n",
    "        self.linear = nn.Sequential(\n",
    "            nn.Linear(flat_img, 10000),\n",
    "            nn.ReLU(),\n",
    "            nn.Linear(10000, 1),\n",
    "            nn.Sigmoid()\n",
    "        )\n",
    "\n",
    "    def forward(self, img):\n",
    "        # flattens the input data\n",
    "        img = img.view(1, -1)\n",
    "        # performs the forward pass\n",
    "        out = self.linear(img)\n",
    "\n",
    "        return out"
   ]
  },
  {
   "cell_type": "markdown",
   "metadata": {},
   "source": [
    "Creating the Generator, which creates an output image tensor (fake image) using input random noise. The size of the fake image is the same size as that of the real image."
   ]
  },
  {
   "cell_type": "code",
   "execution_count": 5,
   "metadata": {},
   "outputs": [],
   "source": [
    "# defines a custom nn module, used for custom models.\n",
    "# a sequential model, which is made up of the input layer of\n",
    "# size 100 and a LeakyReLU activation function and two hidden layers\n",
    "# with 10000 nodes and 4000 noges, and finally an output layer of size\n",
    "# 32*32*3, is instantiated.\n",
    "\n",
    "# a method for the forward pass is also created, which first flattens the\n",
    "# input image and then performs a forward pass of the image through the Generator.\n",
    "# this method then returns the output 'fake' image produced by the generator.\n",
    "\n",
    "class Generator(nn.Module):\n",
    "    def __init__(self):\n",
    "        super().__init__()\n",
    "        self.linear = nn.Sequential(\n",
    "            nn.Linear(100, 10000),\n",
    "            nn.LeakyReLU(),\n",
    "            nn.Linear(10000, 4000),\n",
    "            nn.LeakyReLU(),\n",
    "            nn.Linear(4000, flat_img)\n",
    "        )\n",
    "\n",
    "    def forward(self, latent_space):\n",
    "        # flattens the input data\n",
    "        latent_space = latent_space.view(1, -1)\n",
    "        # performs the forward pass\n",
    "        out = self.linear(latent_space)\n",
    "\n",
    "        return out"
   ]
  },
  {
   "cell_type": "markdown",
   "metadata": {},
   "source": [
    "Initializing the models, optimizers, and loss function."
   ]
  },
  {
   "cell_type": "code",
   "execution_count": 6,
   "metadata": {},
   "outputs": [],
   "source": [
    "# use the GPU if cuda is available. otherwise use the CPU\n",
    "device = 'cuda:0' if torch.cuda.is_available() else 'cpu'\n",
    "\n",
    "# initialize the models and assign them to the device available\n",
    "discr = Discriminator().to(device)\n",
    "gen = Generator().to(device)\n",
    "\n",
    "# initialize the optimizers for both parameters. here we use SGD\n",
    "opt_d = optim.Adam(discr.parameters(), lr=3e-4)\n",
    "opt_g = optim.Adam(gen.parameters(), lr=0.3e-4)\n",
    "\n",
    "# initialize the loss function. the paper uses BCE (Binary Cross Entropy)\n",
    "criterion = nn.BCELoss()"
   ]
  },
  {
   "cell_type": "markdown",
   "metadata": {},
   "source": [
    "Train the model. The tutorial I am following trains the whole GAN (discriminator + generator) for 500 epochs. For each epoch of the whole GAN, the discriminator is trained for 4 epochs and the generator will be trained for 3 epochs."
   ]
  },
  {
   "cell_type": "code",
   "execution_count": 7,
   "metadata": {},
   "outputs": [
    {
     "data": {
      "application/vnd.jupyter.widget-view+json": {
       "model_id": "e86de0dd166044b58a47bf8a0005ecad",
       "version_major": 2,
       "version_minor": 0
      },
      "text/plain": [
       "A Jupyter Widget"
      ]
     },
     "metadata": {},
     "output_type": "display_data"
    }
   ],
   "source": [
    "# define epoch values for all training loops\n",
    "epochs = 30\n",
    "\n",
    "# define the loop for the overall GAN training (500 epochs).\n",
    "# 'total' is used to specify the total number of expected\n",
    "# iterations (https://www.geeksforgeeks.org/python-how-to-make-a-terminal-progress-bar-using-tqdm/)\n",
    "\n",
    "discr_losses = []\n",
    "gen_losses = []\n",
    "\n",
    "for epoch in tqdm(range(epochs), total=epochs):\n",
    "\n",
    "    #############################\n",
    "    # Training the discriminator\n",
    "    #############################\n",
    "\n",
    "    # set the gradients of all optimized 'torch.Tensor's to zero.\n",
    "    # (https://pytorch.org/docs/stable/generated/torch.optim.Optimizer.zero_grad.html)\n",
    "    opt_d.zero_grad()\n",
    "\n",
    "    # 'real_img.to(device) performs a Tensor device conversion. in this case,\n",
    "    # it sets the input image, real_img, on the device we previously defined (GPU).\n",
    "    # this also performs the forward pass and returns an output value from the\n",
    "    # sigmoid activation function (a value between 0 and 1).\n",
    "    out_d1 = discr(real_img.to(device))\n",
    "\n",
    "    # this measures the Binary Cross Entropy between the target and the\n",
    "    # input probability. 'out_d1' is the output of the forward pass.\n",
    "    # 'torch.ones((1, 1)).to(device)' is a 1x1 tensor of value 1, which\n",
    "    # stands for the value of the real image (remember, fake=0 & real=1).\n",
    "    # (https://pytorch.org/docs/stable/generated/torch.nn.BCELoss.html)\n",
    "    real_loss = criterion(out_d1, torch.ones_like(out_d1).to(device))\n",
    "\n",
    "    # generate a fake image from the Generator using the input latent space.\n",
    "    # 'detach' is used to return a tensor that is detached from the current\n",
    "    # graph, meaning that the tensor will never require gradient.\n",
    "    gen_output = gen(fake_img.to(device)).detach()\n",
    "\n",
    "    # same process as described above, however this time using a fake image\n",
    "    # which is created by the generator.\n",
    "    out_d2 = discr(gen_output.to(device))\n",
    "    fake_loss = criterion(out_d2, torch.zeros_like(out_d2).to(device))\n",
    "    loss_d = (fake_loss + real_loss) / 2    # calculate total Discriminator loss\n",
    "    discr_losses.append(loss_d.item())\n",
    "    loss_d.backward()                       # compute gradients (backprop)\n",
    "    opt_d.step()                            # update parameters\n",
    "\n",
    "\n",
    "    #############################\n",
    "    # Training the generator\n",
    "    #############################\n",
    "\n",
    "    # set the gradients to zero & generate a fake image\n",
    "    # with the Generator using the input latent space\n",
    "    opt_g.zero_grad()\n",
    "    #out_g = gen(fake_img.to(device))\n",
    "\n",
    "    discr_pred = discr(gen_output.to(device))\n",
    "    loss_g = criterion(discr_pred, torch.ones_like(discr_pred))\n",
    "    gen_losses.append(loss_g.item())\n",
    "    loss_g.backward()\n",
    "    opt_g.step()"
   ]
  },
  {
   "cell_type": "code",
   "execution_count": 8,
   "metadata": {},
   "outputs": [
    {
     "name": "stdout",
     "output_type": "stream",
     "text": [
      "gen losses:  [0.9477479457855225, 1.2167797088623047, 1.5364480018615723, 1.9039897918701172, 2.3051986694335938, 2.7279460430145264, 3.160979986190796, 3.595048666000366, 4.022509574890137, 4.4375691413879395, 4.836496829986572, 5.216853618621826, 5.577240943908691, 5.917086601257324, 6.23626184463501, 6.535061836242676, 6.813987731933594, 7.073768138885498, 7.315234184265137, 7.539275646209717, 7.746865749359131, 7.938958644866943, 8.116503715515137, 8.280435562133789, 8.431646347045898, 8.571009635925293, 8.699349403381348, 8.81745433807373, 8.926069259643555, 9.02590560913086]\n",
      "discr losses:  [0.6453284025192261, 0.24520067870616913, 0.1756180226802826, 0.12112745642662048, 0.08065573871135712, 0.05253525450825691, 0.03379338979721069, 0.021654317155480385, 0.013921688310801983, 0.009035132825374603, 0.005947567522525787, 0.003983228467404842, 0.0027195727452635765, 0.001895080553367734, 0.0013483449583873153, 0.0009795479709282517, 0.0007263330626301467, 0.0005494393408298492, 0.00042370028677396476, 0.0003327642334625125, 0.00026596704265102744, 0.00021608371753245592, 0.00017830928845796734, 0.00014930212637409568, 0.00012673554010689259, 0.0001089393554138951, 9.478037100052461e-05, 8.336404425790533e-05, 7.406425720546395e-05, 6.643379310844466e-05]\n"
     ]
    },
    {
     "data": {
      "text/plain": [
       "[<matplotlib.lines.Line2D at 0x7f374d75a880>]"
      ]
     },
     "execution_count": 8,
     "metadata": {},
     "output_type": "execute_result"
    },
    {
     "data": {
      "image/png": "[encoded data removed]",
      "text/plain": [
       "<Figure size 640x480 with 1 Axes>"
      ]
     },
     "metadata": {},
     "output_type": "display_data"
    }
   ],
   "source": [
    "print('gen losses: ', gen_losses)\n",
    "print('discr losses: ', discr_losses)\n",
    "plt.plot(gen_losses)\n",
    "plt.plot(discr_losses)"
   ]
  },
  {
   "cell_type": "markdown",
   "metadata": {},
   "source": [
    "Plot the original image and the last fake image generated by the Generator to compare the results."
   ]
  },
  {
   "cell_type": "code",
   "execution_count": 9,
   "metadata": {},
   "outputs": [
    {
     "ename": "NameError",
     "evalue": "name 'out_g' is not defined",
     "output_type": "error",
     "traceback": [
      "\u001b[0;31m---------------------------------------------------------------------------\u001b[0m",
      "\u001b[0;31mNameError\u001b[0m                                 Traceback (most recent call last)",
      "Cell \u001b[0;32mIn [9], line 8\u001b[0m\n\u001b[1;32m      6\u001b[0m plt\u001b[39m.\u001b[39mxticks([])\n\u001b[1;32m      7\u001b[0m plt\u001b[39m.\u001b[39myticks([])\n\u001b[0;32m----> 8\u001b[0m plt\u001b[39m.\u001b[39mimshow(np\u001b[39m.\u001b[39mtranspose(out_g\u001b[39m.\u001b[39mresize(\u001b[39m3\u001b[39m, \u001b[39m32\u001b[39m, \u001b[39m32\u001b[39m)\u001b[39m.\u001b[39mcpu()\u001b[39m.\u001b[39mdetach()\u001b[39m.\u001b[39mnumpy(), (\u001b[39m1\u001b[39m, \u001b[39m2\u001b[39m, \u001b[39m0\u001b[39m)))\n\u001b[1;32m     10\u001b[0m \u001b[39m# Plot the original real image\u001b[39;00m\n\u001b[1;32m     11\u001b[0m plt\u001b[39m.\u001b[39msubplot(\u001b[39m1\u001b[39m, \u001b[39m2\u001b[39m, \u001b[39m2\u001b[39m)\n",
      "\u001b[0;31mNameError\u001b[0m: name 'out_g' is not defined"
     ]
    },
    {
     "data": {
      "image/png": "[encoded data removed]",
      "text/plain": [
       "<Figure size 800x800 with 1 Axes>"
      ]
     },
     "metadata": {},
     "output_type": "display_data"
    }
   ],
   "source": [
    "plt.figure(figsize=(8, 8))\n",
    "\n",
    "# Plot the fake image generated by the Generator\n",
    "plt.subplot(1, 2, 1)\n",
    "plt.title(\"Generated Image\")\n",
    "plt.xticks([])\n",
    "plt.yticks([])\n",
    "plt.imshow(np.transpose(out_g.resize(3, 32, 32).cpu().detach().numpy(), (1, 2, 0)))\n",
    "\n",
    "# Plot the original real image\n",
    "plt.subplot(1, 2, 2)\n",
    "plt.title(\"Original Image\")\n",
    "plt.xticks([])\n",
    "plt.yticks([])\n",
    "plt.imshow(np.transpose(real_img.numpy(), (1, 2, 0)))\n",
    "\n",
    "plt.show()"
   ]
  },
  {
   "cell_type": "code",
   "execution_count": null,
   "metadata": {},
   "outputs": [],
   "source": []
  }
 ],
 "metadata": {
  "kernelspec": {
   "display_name": "Python 3.8.10 ('GAN_pt')",
   "language": "python",
   "name": "python3"
  },
  "language_info": {
   "codemirror_mode": {
    "name": "ipython",
    "version": 3
   },
   "file_extension": ".py",
   "mimetype": "text/x-python",
   "name": "python",
   "nbconvert_exporter": "python",
   "pygments_lexer": "ipython3",
   "version": "3.8.15"
  },
  "orig_nbformat": 4,
  "vscode": {
   "interpreter": {
    "hash": "8f056265484383e5b66afe0560660179ace645500003f0a42b5b524fe39d5512"
   }
  }
 },
 "nbformat": 4,
 "nbformat_minor": 2
}
